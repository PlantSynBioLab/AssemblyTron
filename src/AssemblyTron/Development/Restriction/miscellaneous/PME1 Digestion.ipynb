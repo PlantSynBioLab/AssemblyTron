{
 "cells": [
  {
   "cell_type": "code",
   "execution_count": 5,
   "metadata": {},
   "outputs": [],
   "source": [
    "from opentrons import protocol_api\n",
    "import pandas as pd\n",
    "import os"
   ]
  },
  {
   "cell_type": "code",
   "execution_count": 6,
   "metadata": {},
   "outputs": [
    {
     "name": "stdout",
     "output_type": "stream",
     "text": [
      "{'protocolName': 'PME1 Digestion', 'author': 'Mason Kellinger masonkellinger@vt.edu', 'description': 'First phase of yeast transformation', 'apiLevel': '2.9'}\n"
     ]
    },
    {
     "data": {
      "text/plain": [
       "'G:\\\\Shared drives\\\\PlantSynBioLab\\\\Johns team'"
      ]
     },
     "execution_count": 6,
     "metadata": {},
     "output_type": "execute_result"
    }
   ],
   "source": [
    "## Meta Data\n",
    "\n",
    "metadata = {'protocolName': 'PME1 Digestion',\n",
    "'author':'Mason Kellinger masonkellinger@vt.edu',\n",
    " 'description':'First phase of yeast transformation',\n",
    " 'apiLevel': '2.9'\n",
    "}\n",
    "print(metadata)\n",
    "\n",
    "os.chdir(\"G:\\Shared drives\\PlantSynBioLab\\Johns team\")\n",
    "os.getcwd()"
   ]
  },
  {
   "cell_type": "code",
   "execution_count": 7,
   "metadata": {},
   "outputs": [
    {
     "data": {
      "text/html": [
       "<div>\n",
       "<style scoped>\n",
       "    .dataframe tbody tr th:only-of-type {\n",
       "        vertical-align: middle;\n",
       "    }\n",
       "\n",
       "    .dataframe tbody tr th {\n",
       "        vertical-align: top;\n",
       "    }\n",
       "\n",
       "    .dataframe thead th {\n",
       "        text-align: right;\n",
       "    }\n",
       "</style>\n",
       "<table border=\"1\" class=\"dataframe\">\n",
       "  <thead>\n",
       "    <tr style=\"text-align: right;\">\n",
       "      <th></th>\n",
       "      <th>Plasmid</th>\n",
       "      <th>Concentration</th>\n",
       "    </tr>\n",
       "  </thead>\n",
       "  <tbody>\n",
       "    <tr>\n",
       "      <th>0</th>\n",
       "      <td>103</td>\n",
       "      <td>156</td>\n",
       "    </tr>\n",
       "    <tr>\n",
       "      <th>1</th>\n",
       "      <td>259</td>\n",
       "      <td>283</td>\n",
       "    </tr>\n",
       "  </tbody>\n",
       "</table>\n",
       "</div>"
      ],
      "text/plain": [
       "   Plasmid  Concentration\n",
       "0      103            156\n",
       "1      259            283"
      ]
     },
     "execution_count": 7,
     "metadata": {},
     "output_type": "execute_result"
    }
   ],
   "source": [
    "plasmid = pd.read_csv(\"20210802_pme1.csv\",engine = 'python', encoding='utf-8-sig')\n",
    "\n",
    "plasmid = pd.DataFrame(plasmid)\n",
    "\n",
    "plasmid"
   ]
  },
  {
   "cell_type": "code",
   "execution_count": 8,
   "metadata": {},
   "outputs": [
    {
     "data": {
      "text/html": [
       "<div>\n",
       "<style scoped>\n",
       "    .dataframe tbody tr th:only-of-type {\n",
       "        vertical-align: middle;\n",
       "    }\n",
       "\n",
       "    .dataframe tbody tr th {\n",
       "        vertical-align: top;\n",
       "    }\n",
       "\n",
       "    .dataframe thead th {\n",
       "        text-align: right;\n",
       "    }\n",
       "</style>\n",
       "<table border=\"1\" class=\"dataframe\">\n",
       "  <thead>\n",
       "    <tr style=\"text-align: right;\">\n",
       "      <th></th>\n",
       "      <th>Plasmid</th>\n",
       "      <th>Concentration</th>\n",
       "      <th>Buffer</th>\n",
       "      <th>PME1</th>\n",
       "      <th>Volume of Plasmid</th>\n",
       "      <th>Volume of Water</th>\n",
       "    </tr>\n",
       "  </thead>\n",
       "  <tbody>\n",
       "    <tr>\n",
       "      <th>0</th>\n",
       "      <td>103</td>\n",
       "      <td>156</td>\n",
       "      <td>4.4</td>\n",
       "      <td>1.0</td>\n",
       "      <td>9.615385</td>\n",
       "      <td>28.984615</td>\n",
       "    </tr>\n",
       "    <tr>\n",
       "      <th>1</th>\n",
       "      <td>259</td>\n",
       "      <td>283</td>\n",
       "      <td>4.4</td>\n",
       "      <td>1.0</td>\n",
       "      <td>5.300353</td>\n",
       "      <td>33.299647</td>\n",
       "    </tr>\n",
       "  </tbody>\n",
       "</table>\n",
       "</div>"
      ],
      "text/plain": [
       "   Plasmid  Concentration  Buffer  PME1  Volume of Plasmid  Volume of Water\n",
       "0      103            156     4.4   1.0           9.615385        28.984615\n",
       "1      259            283     4.4   1.0           5.300353        33.299647"
      ]
     },
     "execution_count": 8,
     "metadata": {},
     "output_type": "execute_result"
    }
   ],
   "source": [
    "\n",
    "plasmid['Buffer'] = float('4.4')\n",
    "plasmid['PME1'] = float('1')\n",
    "plasmid['Volume of Plasmid'] = ''\n",
    "plasmid['Volume of Water'] = ''\n",
    "\n",
    "plasmid['Volume of Plasmid'] = (1/(plasmid['Concentration'])) * 1000 * 1.5\n",
    "plasmid['Volume of Water'] = 44 - plasmid['Volume of Plasmid'] - plasmid['Buffer'] - plasmid['PME1']\n",
    "\n",
    "plasmid"
   ]
  },
  {
   "cell_type": "code",
   "execution_count": 9,
   "metadata": {},
   "outputs": [],
   "source": [
    "row2well= {}\n",
    "row2well['0'] = 'A2'\n",
    "row2well['1'] = 'B2'\n",
    "row2well['2'] = 'C2'\n",
    "row2well['3'] = 'D2'"
   ]
  },
  {
   "cell_type": "code",
   "execution_count": 10,
   "metadata": {},
   "outputs": [
    {
     "data": {
      "text/html": [
       "<div>\n",
       "<style scoped>\n",
       "    .dataframe tbody tr th:only-of-type {\n",
       "        vertical-align: middle;\n",
       "    }\n",
       "\n",
       "    .dataframe tbody tr th {\n",
       "        vertical-align: top;\n",
       "    }\n",
       "\n",
       "    .dataframe thead th {\n",
       "        text-align: right;\n",
       "    }\n",
       "</style>\n",
       "<table border=\"1\" class=\"dataframe\">\n",
       "  <thead>\n",
       "    <tr style=\"text-align: right;\">\n",
       "      <th></th>\n",
       "      <th>Plasmid</th>\n",
       "      <th>Concentration</th>\n",
       "      <th>Buffer</th>\n",
       "      <th>PME1</th>\n",
       "      <th>Volume of Plasmid</th>\n",
       "      <th>Volume of Water</th>\n",
       "      <th>Plasmid Location</th>\n",
       "    </tr>\n",
       "  </thead>\n",
       "  <tbody>\n",
       "    <tr>\n",
       "      <th>0</th>\n",
       "      <td>103</td>\n",
       "      <td>156</td>\n",
       "      <td>4.4</td>\n",
       "      <td>1.0</td>\n",
       "      <td>9.615385</td>\n",
       "      <td>28.984615</td>\n",
       "      <td>A2</td>\n",
       "    </tr>\n",
       "    <tr>\n",
       "      <th>1</th>\n",
       "      <td>259</td>\n",
       "      <td>283</td>\n",
       "      <td>4.4</td>\n",
       "      <td>1.0</td>\n",
       "      <td>5.300353</td>\n",
       "      <td>33.299647</td>\n",
       "      <td>B2</td>\n",
       "    </tr>\n",
       "  </tbody>\n",
       "</table>\n",
       "</div>"
      ],
      "text/plain": [
       "   Plasmid  Concentration  Buffer  PME1  Volume of Plasmid  Volume of Water  \\\n",
       "0      103            156     4.4   1.0           9.615385        28.984615   \n",
       "1      259            283     4.4   1.0           5.300353        33.299647   \n",
       "\n",
       "  Plasmid Location  \n",
       "0               A2  \n",
       "1               B2  "
      ]
     },
     "execution_count": 10,
     "metadata": {},
     "output_type": "execute_result"
    }
   ],
   "source": [
    "plasmid['Plasmid Location'] = ''\n",
    "\n",
    "for i, row in plasmid.iterrows():\n",
    "    plasmid.loc[i,'Plasmid Location'] = row2well[str(i)]\n",
    "plasmid"
   ]
  },
  {
   "cell_type": "code",
   "execution_count": 11,
   "metadata": {},
   "outputs": [],
   "source": [
    "row2tube= {}\n",
    "row2tube['0'] = 'A1'\n",
    "row2tube['1'] = 'A2'\n",
    "row2tube['2'] = 'A3'\n",
    "row2tube['3'] = 'A4'"
   ]
  },
  {
   "cell_type": "code",
   "execution_count": 12,
   "metadata": {},
   "outputs": [
    {
     "data": {
      "text/html": [
       "<div>\n",
       "<style scoped>\n",
       "    .dataframe tbody tr th:only-of-type {\n",
       "        vertical-align: middle;\n",
       "    }\n",
       "\n",
       "    .dataframe tbody tr th {\n",
       "        vertical-align: top;\n",
       "    }\n",
       "\n",
       "    .dataframe thead th {\n",
       "        text-align: right;\n",
       "    }\n",
       "</style>\n",
       "<table border=\"1\" class=\"dataframe\">\n",
       "  <thead>\n",
       "    <tr style=\"text-align: right;\">\n",
       "      <th></th>\n",
       "      <th>Plasmid</th>\n",
       "      <th>Concentration</th>\n",
       "      <th>Buffer</th>\n",
       "      <th>PME1</th>\n",
       "      <th>Volume of Plasmid</th>\n",
       "      <th>Volume of Water</th>\n",
       "      <th>Plasmid Location</th>\n",
       "      <th>Digestion Tube</th>\n",
       "    </tr>\n",
       "  </thead>\n",
       "  <tbody>\n",
       "    <tr>\n",
       "      <th>0</th>\n",
       "      <td>103</td>\n",
       "      <td>156</td>\n",
       "      <td>4.4</td>\n",
       "      <td>1.0</td>\n",
       "      <td>9.615385</td>\n",
       "      <td>28.984615</td>\n",
       "      <td>A2</td>\n",
       "      <td>A1</td>\n",
       "    </tr>\n",
       "    <tr>\n",
       "      <th>1</th>\n",
       "      <td>259</td>\n",
       "      <td>283</td>\n",
       "      <td>4.4</td>\n",
       "      <td>1.0</td>\n",
       "      <td>5.300353</td>\n",
       "      <td>33.299647</td>\n",
       "      <td>B2</td>\n",
       "      <td>A2</td>\n",
       "    </tr>\n",
       "  </tbody>\n",
       "</table>\n",
       "</div>"
      ],
      "text/plain": [
       "   Plasmid  Concentration  Buffer  PME1  Volume of Plasmid  Volume of Water  \\\n",
       "0      103            156     4.4   1.0           9.615385        28.984615   \n",
       "1      259            283     4.4   1.0           5.300353        33.299647   \n",
       "\n",
       "  Plasmid Location Digestion Tube  \n",
       "0               A2             A1  \n",
       "1               B2             A2  "
      ]
     },
     "execution_count": 12,
     "metadata": {},
     "output_type": "execute_result"
    }
   ],
   "source": [
    "plasmid['Digestion Tube'] = ''\n",
    "\n",
    "for i, row in plasmid.iterrows():\n",
    "    plasmid.loc[i,'Digestion Tube'] = row2tube[str(i)]\n",
    "\n",
    "plasmid"
   ]
  },
  {
   "cell_type": "code",
   "execution_count": 14,
   "metadata": {},
   "outputs": [
    {
     "name": "stderr",
     "output_type": "stream",
     "text": [
      "C:\\Users\\mkell\\.opentrons\\robot_settings.json not found. Loading defaults\n",
      "C:\\Users\\mkell\\.opentrons\\deck_calibration.json not found. Loading defaults\n"
     ]
    },
    {
     "name": "stdout",
     "output_type": "stream",
     "text": [
      "done\n"
     ]
    }
   ],
   "source": [
    "from opentrons import simulate\n",
    "protocol = simulate.get_protocol_api('2.9')\n",
    "\n",
    "\n",
    " ## Loading labware\n",
    "thermo = protocol.load_module('Thermocycler Module')\n",
    "pcr = thermo.load_labware('nest_96_wellplate_100ul_pcr_full_skirt')\n",
    "temp = protocol.load_module('Temperature Module', 4)\n",
    "block = temp.load_labware('opentrons_24_aluminumblock_nest_2ml_snapcap')\n",
    "    \n",
    "tiprack1 = protocol.load_labware(\"opentrons_96_tiprack_10ul\",1)\n",
    "tiprack2 = protocol.load_labware(\"opentrons_96_tiprack_300ul\",2)\n",
    "#tuberack = protocol.load_labware(\"opentrons_24_tuberack_nest_2ml_snapcap\",4)\n",
    "    \n",
    " ## Loading tools\n",
    "pipette_right = protocol.load_instrument('p300_single_gen2','right',tip_racks = [tiprack2])\n",
    "pipette_left = protocol.load_instrument('p10_single','left',tip_racks = [tiprack1])\n",
    "## Commands\n",
    "\n",
    "thermo.open_lid()\n",
    "temp.set_temperature(4)\n",
    "\n",
    "protocol.pause('Prepare Tubes')\n",
    "\n",
    "# pick up water -> dispense into pcr tube within thermocycler -> get rid of tip\n",
    "pipette_right.pick_up_tip()\n",
    "for i, row in plasmid.iterrows():\n",
    "    pipette_right.aspirate(plasmid.loc[i].at['Volume of Water'],block['A1'],2)\n",
    "    pipette_right.dispense(plasmid.loc[i].at['Volume of Water'],pcr[plasmid.loc[i].at['Digestion Tube']],2)\n",
    "    pipette_right.blow_out()\n",
    "\n",
    "pipette_right.drop_tip()\n",
    "\n",
    "# pick up plasmid  -> dispense into pcr tube -> get rid of tip  no blow out because aeresol\n",
    "\n",
    "for i, row in plasmid.iterrows():\n",
    "    pipette_left.pick_up_tip()\n",
    "    pipette_left.aspirate(plasmid.loc[i].at['Volume of Plasmid'],block[plasmid.loc[i].at['Plasmid Location']],2) #location of plasmid\n",
    "    pipette_left.dispense(plasmid.loc[i].at['Volume of Plasmid'],pcr[plasmid.loc[i].at['Digestion Tube']],2)\n",
    "    pipette_left.drop_tip()\n",
    "\n",
    "# pick up buffer  -> dispense into pcr tube -> get rid of tip\n",
    "\n",
    "for i, row in plasmid.iterrows():\n",
    "    pipette_left.pick_up_tip()\n",
    "    pipette_left.aspirate(plasmid.loc[i].at['Buffer'],block['A3'],2)\n",
    "    pipette_left.dispense(plasmid.loc[i].at['Buffer'],pcr[plasmid.loc[i].at['Digestion Tube']],2)\n",
    "    pipette_left.blow_out()\n",
    "    pipette_left.drop_tip()  \n",
    "\n",
    "\n",
    "# pick up PME1 -> dispense into pcr tube -> get rid of tip\n",
    "\n",
    "for i, row in plasmid.iterrows():\n",
    "    pipette_left.pick_up_tip()\n",
    "    pipette_left.aspirate(plasmid.loc[i].at['PME1'],block['A4'],2)\n",
    "    pipette_left.dispense(plasmid.loc[i].at['PME1'],pcr[plasmid.loc[i].at['Digestion Tube']],2)\n",
    "    pipette_left.blow_out()\n",
    "    pipette_left.drop_tip()\n",
    "\n",
    "\n",
    "for i, row in plasmid.iterrows():\n",
    "    pipette_right.pick_up_tip()\n",
    "    pipette_right.mix(3,44,pcr[plasmid.loc[i].at['Digestion Tube']])\n",
    "    pipette_right.drop_tip()\n",
    "\n",
    " #mixes contents around using the pipette tip  (reps,max volume,location)\n",
    "\n",
    "\n",
    "thermo.close_lid()\n",
    "thermo.set_lid_temperature(105)\n",
    "thermo.set_block_temperature(37,0,30, block_max_volume = 44) #temp,seconds,minutes,ramprate(danger),max vol\n",
    "thermo.set_block_temperature(65,0,20, block_max_volume = 44)\n",
    "thermo.set_block_temperature(4, block_max_volume = 44)\n",
    "\n",
    "thermo.open_lid()\n",
    "\n",
    "print(\"done\")"
   ]
  },
  {
   "cell_type": "code",
   "execution_count": null,
   "metadata": {},
   "outputs": [],
   "source": []
  },
  {
   "cell_type": "code",
   "execution_count": null,
   "metadata": {},
   "outputs": [],
   "source": []
  }
 ],
 "metadata": {
  "kernelspec": {
   "display_name": "Python 3",
   "language": "python",
   "name": "python3"
  },
  "language_info": {
   "codemirror_mode": {
    "name": "ipython",
    "version": 3
   },
   "file_extension": ".py",
   "mimetype": "text/x-python",
   "name": "python",
   "nbconvert_exporter": "python",
   "pygments_lexer": "ipython3",
   "version": "3.8.5"
  }
 },
 "nbformat": 4,
 "nbformat_minor": 4
}
