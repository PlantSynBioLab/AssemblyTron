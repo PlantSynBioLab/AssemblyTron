{
 "cells": [
  {
   "cell_type": "code",
   "execution_count": null,
   "metadata": {},
   "outputs": [],
   "source": [
    "import tkinter as tk\n",
    "from tkinter import *\n",
    "\n",
    "window = tk.Tk()\n",
    "\n",
    "notice = tk.Label(text=\"Notice Me\",fg=\"blue\",bg=\"white\",width=10,height=10)\n",
    "notice.pack()\n",
    "\n",
    "click_button = tk.Button(text=\"Click Me\")\n",
    "click_button.pack()\n",
    "\n",
    "entry = tk.Entry(fg=\"yellow\",bg=\"green\")\n",
    "entry.pack()\n",
    "\n",
    "\n",
    "window.geometry(\"400x400\")\n",
    "window.title(\"Test Studio\")\n",
    "window.mainloop()\n",
    "\n"
   ]
  },
  {
   "cell_type": "code",
   "execution_count": null,
   "metadata": {},
   "outputs": [],
   "source": []
  },
  {
   "cell_type": "code",
   "execution_count": 46,
   "metadata": {},
   "outputs": [
    {
     "data": {
      "text/plain": [
       "1"
      ]
     },
     "execution_count": 46,
     "metadata": {},
     "output_type": "execute_result"
    }
   ],
   "source": [
    "import tkinter as tk\n",
    "from tkinter import *\n",
    "\n",
    "\n",
    "enzyme_root = tk.Tk() #This creates the window\n",
    "enzyme_root.title(\"Enzyme Parameter Selection\")\n",
    "enzyme_root.geometry(\"400x400\")\n",
    "\n",
    "def confirm1():\n",
    "    global enzyme_name \n",
    "    enzyme_name = str(enzyme_entry.get())  #saves the first entry of the function to the variable enzyme_name\n",
    "    \n",
    "    global concentration_of_dna #same but for second entry\n",
    "    concentration_of_dna = int(conc_entry.get())\n",
    "    enzyme_root.destroy()\n",
    "\n",
    "    \n",
    "enzyme_label = tk.Label(text = \"Enter Enzyme Name Here\")\n",
    "enzyme_label.place(relx=0.1,rely=0)\n",
    "\n",
    "enzyme_entry = tk.Entry() #Creates the entry box\n",
    "enzyme_entry.place(relx=.1,rely=.1)\n",
    "\n",
    "conc_label = tk.Label(text=\"Enter your DNA concentration Here\")\n",
    "conc_label.place(relx=0.5, rely=0)\n",
    "\n",
    "conc_entry = tk.Entry()\n",
    "conc_entry.place(relx=0.6,rely = 0.1)\n",
    "\n",
    "confirm_button = tk.Button(text=\"Confirm\",command=confirm1) # extremely important to not have () at end of function\n",
    "confirm_button.place(relx=0.45,rely=0.2)\n",
    "\n",
    "enzyme_root.mainloop() #This creates window loop, sensing for changes\n",
    "\n",
    "\n",
    "enzyme_name\n",
    "concentration_of_dna"
   ]
  },
  {
   "cell_type": "code",
   "execution_count": 31,
   "metadata": {},
   "outputs": [
    {
     "ename": "NameError",
     "evalue": "name 'z_coord' is not defined",
     "output_type": "error",
     "traceback": [
      "\u001b[1;31m---------------------------------------------------------------------------\u001b[0m",
      "\u001b[1;31mNameError\u001b[0m                                 Traceback (most recent call last)",
      "\u001b[1;32m<ipython-input-31-1911ea757e21>\u001b[0m in \u001b[0;36m<module>\u001b[1;34m\u001b[0m\n\u001b[0;32m     35\u001b[0m     \u001b[0mwindow\u001b[0m\u001b[1;33m.\u001b[0m\u001b[0mmainloop\u001b[0m\u001b[1;33m(\u001b[0m\u001b[1;33m)\u001b[0m\u001b[1;33m\u001b[0m\u001b[1;33m\u001b[0m\u001b[0m\n\u001b[0;32m     36\u001b[0m \u001b[1;33m\u001b[0m\u001b[0m\n\u001b[1;32m---> 37\u001b[1;33m \u001b[0mz_coord\u001b[0m\u001b[1;33m\u001b[0m\u001b[1;33m\u001b[0m\u001b[0m\n\u001b[0m",
      "\u001b[1;31mNameError\u001b[0m: name 'z_coord' is not defined"
     ]
    }
   ],
   "source": [
    "import tkinter as tk\n",
    "from tkinter import *\n",
    "\n",
    "calibrate = False # While the exact z_coord isn't set, keep running the loop program\n",
    "while calibrate == False:\n",
    "    window = tk.Tk() #open window\n",
    "    \n",
    "    def confirm(): # If confirm button pressed, destory window and change calibrated to true\n",
    "        window.destroy()\n",
    "        global calibrate\n",
    "        calibrate = True\n",
    "        \n",
    "        \n",
    "    def test(): #If test button pressed, grab z variable from entry and run in to robot\n",
    "        global z_coord\n",
    "        z_coord = z_entry.get()\n",
    "        window.destroy()\n",
    "        \n",
    "        \n",
    "    warning = tk.Label(text=\"Start with a large value and slowly increment down until optimal z coord\")\n",
    "    warning.pack()\n",
    "    \n",
    "    z_entry = tk.Entry()\n",
    "    z_entry.pack()\n",
    "    \n",
    "    \n",
    "    test_button = tk.Button(text=\"Test\",command=test)\n",
    "    test_button.place(rely=0.2,relx=0.4)\n",
    "    \n",
    "    confirm_button = tk.Button(text=\"Confirm\",command=confirm)\n",
    "    confirm_button.place(rely=0.2,relx=0.6)\n",
    "\n",
    "    window.geometry(\"400x400\")\n",
    "    window.title(\"Calibration Software\")\n",
    "    window.mainloop()\n",
    "\n",
    "z_coord"
   ]
  },
  {
   "cell_type": "code",
   "execution_count": 8,
   "metadata": {
    "scrolled": true
   },
   "outputs": [
    {
     "data": {
      "text/html": [
       "<div>\n",
       "<style scoped>\n",
       "    .dataframe tbody tr th:only-of-type {\n",
       "        vertical-align: middle;\n",
       "    }\n",
       "\n",
       "    .dataframe tbody tr th {\n",
       "        vertical-align: top;\n",
       "    }\n",
       "\n",
       "    .dataframe thead th {\n",
       "        text-align: right;\n",
       "    }\n",
       "</style>\n",
       "<table border=\"1\" class=\"dataframe\">\n",
       "  <thead>\n",
       "    <tr style=\"text-align: right;\">\n",
       "      <th></th>\n",
       "      <th>enzyme</th>\n",
       "      <th>incu_temp</th>\n",
       "      <th>incu_time</th>\n",
       "      <th>inac_temp</th>\n",
       "      <th>amount_dna</th>\n",
       "    </tr>\n",
       "  </thead>\n",
       "  <tbody>\n",
       "    <tr>\n",
       "      <th>0</th>\n",
       "      <td>UNITS:</td>\n",
       "      <td>celsius</td>\n",
       "      <td>minutes</td>\n",
       "      <td>celsius</td>\n",
       "      <td>µg</td>\n",
       "    </tr>\n",
       "    <tr>\n",
       "      <th>1</th>\n",
       "      <td>SpeI</td>\n",
       "      <td>37</td>\n",
       "      <td>60</td>\n",
       "      <td>80</td>\n",
       "      <td>1</td>\n",
       "    </tr>\n",
       "    <tr>\n",
       "      <th>2</th>\n",
       "      <td>BbvcI</td>\n",
       "      <td>37</td>\n",
       "      <td>60</td>\n",
       "      <td>NaN</td>\n",
       "      <td>1</td>\n",
       "    </tr>\n",
       "    <tr>\n",
       "      <th>3</th>\n",
       "      <td>PmeI</td>\n",
       "      <td>37</td>\n",
       "      <td>60</td>\n",
       "      <td>65</td>\n",
       "      <td>1</td>\n",
       "    </tr>\n",
       "    <tr>\n",
       "      <th>4</th>\n",
       "      <td>SacI</td>\n",
       "      <td>37</td>\n",
       "      <td>60</td>\n",
       "      <td>65</td>\n",
       "      <td>1</td>\n",
       "    </tr>\n",
       "    <tr>\n",
       "      <th>5</th>\n",
       "      <td>NheI</td>\n",
       "      <td>37</td>\n",
       "      <td>60</td>\n",
       "      <td>65</td>\n",
       "      <td>1</td>\n",
       "    </tr>\n",
       "    <tr>\n",
       "      <th>6</th>\n",
       "      <td>BsaI</td>\n",
       "      <td>37</td>\n",
       "      <td>60</td>\n",
       "      <td>65</td>\n",
       "      <td>1</td>\n",
       "    </tr>\n",
       "    <tr>\n",
       "      <th>7</th>\n",
       "      <td>NotI</td>\n",
       "      <td>37</td>\n",
       "      <td>60</td>\n",
       "      <td>65</td>\n",
       "      <td>1</td>\n",
       "    </tr>\n",
       "  </tbody>\n",
       "</table>\n",
       "</div>"
      ],
      "text/plain": [
       "   enzyme incu_temp incu_time inac_temp amount_dna\n",
       "0  UNITS:   celsius   minutes   celsius         µg\n",
       "1    SpeI        37        60        80          1\n",
       "2   BbvcI        37        60       NaN          1\n",
       "3    PmeI        37        60        65          1\n",
       "4    SacI        37        60        65          1\n",
       "5    NheI        37        60        65          1\n",
       "6    BsaI        37        60        65          1\n",
       "7    NotI        37        60        65          1"
      ]
     },
     "execution_count": 8,
     "metadata": {},
     "output_type": "execute_result"
    }
   ],
   "source": [
    "import pandas as pd\n",
    "\n",
    "\n",
    "config_file = pd.read_csv(\"CommonEnzyme.csv\",engine = 'python', encoding='utf-8-sig')\n",
    "\n",
    "config_df = pd.DataFrame(config_file)\n",
    "\n",
    "\n",
    "config_df"
   ]
  },
  {
   "cell_type": "code",
   "execution_count": 32,
   "metadata": {},
   "outputs": [],
   "source": []
  },
  {
   "cell_type": "code",
   "execution_count": 33,
   "metadata": {},
   "outputs": [
    {
     "data": {
      "text/plain": [
       "''"
      ]
     },
     "execution_count": 33,
     "metadata": {},
     "output_type": "execute_result"
    }
   ],
   "source": [
    "enzyme_name"
   ]
  },
  {
   "cell_type": "code",
   "execution_count": 11,
   "metadata": {},
   "outputs": [],
   "source": [
    "## TREEVIEW TEST\n",
    "\n",
    "import tkinter as tk\n",
    "import pandas as pd\n",
    "from tkinter import filedialog, messagebox, ttk\n",
    "\n",
    "root = tk.Tk()\n",
    "root.geometry(\"500x500\")\n",
    "root.pack_propagate(False)\n",
    "root.resizable(0,0)\n",
    "\n",
    "#Frame for Table\n",
    "frame1 = LabelFrame(root,text = \"Configuration Data\")\n",
    "frame1.place(height=250,width=500)\n",
    "\n",
    "#Frame for file manipulation\n",
    "\n",
    "file_frame = LabelFrame(root,text = \"Open File\")\n",
    "file_frame.place(height=100,width =400,rely=0.65,relx=0)\n",
    "\n",
    "#Buttons for file searching\n",
    "button3 = Button(file_frame, text =\"Search for File\")\n",
    "button3.place(rely=0.65,relx=0.50)\n",
    "\n",
    "button4 = Button(file_frame,text = \"Confirm File\")\n",
    "button4.place(rely=0.65,relx=0.30)\n",
    "\n",
    "label_file = Label(file_frame,text= \"No File Selected\")\n",
    "label_file.place(rely=0,relx=0)\n",
    "\n",
    "#Visualing Widget\n",
    "tv1 = ttk.Treeview(frame1)\n",
    "tv1.place(relheight=1,relwidth=1)\n",
    "\n",
    "treescrolly = Scrollbar(frame1,orient=\"vertical\",command = tv1.yview)\n",
    "treescrollx = Scrollbar(frame1,orient=\"horizontal\",command = tv1.xview)\n",
    "tv1.configure(xscrollcommand=treescrollx.set,yscrollcommand=treescrolly.set)\n",
    "treescrollx.pack(side=\"bottom\",fill=\"x\")\n",
    "treescrolly.pack(side=\"right\",fill=\"y\")\n",
    "\n",
    "\n",
    "\n",
    "\n",
    "root.mainloop()"
   ]
  },
  {
   "cell_type": "code",
   "execution_count": 9,
   "metadata": {},
   "outputs": [],
   "source": [
    "## Fancy Table\n",
    "from tkinter import *\n",
    "from pandastable import Table, TableModel\n",
    "\n",
    "class TestApp(Frame):\n",
    "        \"\"\"Basic test frame for the table\"\"\"\n",
    "        def __init__(self, parent=None):\n",
    "            self.parent = parent\n",
    "            Frame.__init__(self)\n",
    "            self.main = self.master\n",
    "            self.main.geometry('600x400+200+100')\n",
    "            self.main.title('Table app')\n",
    "            f = Frame(self.main)\n",
    "            f.pack(fill=BOTH,expand=1)\n",
    "            df = config_df\n",
    "            self.table = pt = Table(f, dataframe=df,\n",
    "                                    showtoolbar=True, showstatusbar=True)\n",
    "            pt.show()\n",
    "            return\n",
    "\n",
    "app = TestApp()\n",
    "#launch the app\n",
    "app.mainloop()"
   ]
  },
  {
   "cell_type": "code",
   "execution_count": 10,
   "metadata": {},
   "outputs": [
    {
     "data": {
      "text/plain": [
       "'B7'"
      ]
     },
     "execution_count": 10,
     "metadata": {},
     "output_type": "execute_result"
    }
   ],
   "source": [
    "lastlocation = 'B6'\n",
    "newlocation = lastlocation[0] + str(int(lastlocation[1]) + 1)\n",
    "newlocation"
   ]
  }
 ],
 "metadata": {
  "kernelspec": {
   "display_name": "Python 3",
   "language": "python",
   "name": "python3"
  },
  "language_info": {
   "codemirror_mode": {
    "name": "ipython",
    "version": 3
   },
   "file_extension": ".py",
   "mimetype": "text/x-python",
   "name": "python",
   "nbconvert_exporter": "python",
   "pygments_lexer": "ipython3",
   "version": "3.8.8"
  }
 },
 "nbformat": 4,
 "nbformat_minor": 4
}
