{
 "cells": [
  {
   "cell_type": "code",
   "execution_count": 21,
   "metadata": {},
   "outputs": [],
   "source": [
    "import tkinter as tk\n",
    "from tkinter import *\n",
    "import numpy as np\n",
    "\n",
    "file = 'test.txt'\n",
    "\n",
    "text = np.loadtxt(file,delimiter=',',dtype=str)\n",
    "\n",
    "\n",
    "text_root = tk.Tk()\n",
    "\n",
    "textdisp = tk.Text()\n",
    "textdisp.pack()\n",
    "textdisp.insert(END,text)\n",
    "\n",
    "text_root.mainloop()"
   ]
  }
 ],
 "metadata": {
  "kernelspec": {
   "display_name": "Python 3",
   "language": "python",
   "name": "python3"
  },
  "language_info": {
   "codemirror_mode": {
    "name": "ipython",
    "version": 3
   },
   "file_extension": ".py",
   "mimetype": "text/x-python",
   "name": "python",
   "nbconvert_exporter": "python",
   "pygments_lexer": "ipython3",
   "version": "3.8.5"
  }
 },
 "nbformat": 4,
 "nbformat_minor": 4
}
